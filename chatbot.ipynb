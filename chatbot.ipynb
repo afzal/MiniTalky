{
  "nbformat": 4,
  "nbformat_minor": 0,
  "metadata": {
    "colab": {
      "provenance": [],
      "authorship_tag": "ABX9TyPcQXa0GDX8TEfTjtwKSbH1",
      "include_colab_link": true
    },
    "kernelspec": {
      "name": "python3",
      "display_name": "Python 3"
    },
    "language_info": {
      "name": "python"
    }
  },
  "cells": [
    {
      "cell_type": "markdown",
      "metadata": {
        "id": "view-in-github",
        "colab_type": "text"
      },
      "source": [
        "<a href=\"https://colab.research.google.com/github/afzal/MiniTalky/blob/main/chatbot.ipynb\" target=\"_parent\"><img src=\"https://colab.research.google.com/assets/colab-badge.svg\" alt=\"Open In Colab\"/></a>"
      ]
    },
    {
      "cell_type": "code",
      "execution_count": null,
      "metadata": {
        "id": "irT2vHDMESzP"
      },
      "outputs": [],
      "source": [
        "from transformers import pipeline\n",
        "\n",
        "# Load the model\n",
        "model = pipeline(\"text-generation\", model=\"distilgpt2\")\n",
        "\n",
        "# Chat loop\n",
        "while True:\n",
        "    prompt = input(\"You: \")\n",
        "    result = model(prompt, max_length=50, temperature=0.7, top_k=50)\n",
        "    print(\"Bot:\", result[0][\"generated_text\"])"
      ]
    },
    {
      "cell_type": "code",
      "source": [
        "from transformers import pipeline\n",
        "\n",
        "# Load the model\n",
        "model = pipeline(\"text-generation\", model=\"distilgpt2\")\n",
        "\n",
        "# Chat loop\n",
        "while True:\n",
        "    prompt = input(\"You: \")\n",
        "    result = model(prompt, max_length=50, temperature=0.7, top_k=40, truncation=True)\n",
        "    # Remove the prompt from the reply\n",
        "    reply = result[0][\"generated_text\"].replace(prompt, \"\").strip()\n",
        "    print(\"Bot:\", reply)"
      ],
      "metadata": {
        "id": "hZXthza4FwpL"
      },
      "execution_count": null,
      "outputs": []
    },
    {
      "cell_type": "code",
      "source": [
        "from transformers import pipeline\n",
        "\n",
        "# Load the model\n",
        "model = pipeline(\"text-generation\", model=\"gpt2\")\n",
        "\n",
        "# Chat loop\n",
        "while True:\n",
        "    prompt = input(\"You: \")\n",
        "    if not prompt.strip():  # If input is empty, skip\n",
        "        print(\"Bot: Say something!\")\n",
        "        continue\n",
        "    full_prompt = f\"Human: {prompt} Bot:\"  # Add context\n",
        "    result = model(full_prompt, max_length=50, temperature=0.9, top_k=50, truncation=True)\n",
        "    reply = result[0][\"generated_text\"].replace(full_prompt, \"\").strip()\n",
        "    print(\"Bot:\", reply)"
      ],
      "metadata": {
        "id": "gAwQiQnZKaxz"
      },
      "execution_count": null,
      "outputs": []
    }
  ]
}